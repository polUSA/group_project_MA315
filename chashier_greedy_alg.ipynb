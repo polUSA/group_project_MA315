{
 "cells": [
  {
   "cell_type": "markdown",
   "metadata": {},
   "source": [
    "#### INSTRUCTIONS\n",
    "\n",
    "When promted, please insert the coins value available in your currency one by one.  \n",
    "\n",
    "For example, for _25¢_ (_0.25_ of your currency) insert _25_ and press _enter_.  \n",
    "\n",
    "Once your are done please type __\"done\"__ and press _enter_ to confirm."
   ]
  },
  {
   "cell_type": "code",
   "execution_count": 5,
   "metadata": {},
   "outputs": [],
   "source": [
    "coins_available = []\n",
    "while True:\n",
    "    change = input('Please enter the CHANGE amount: ')\n",
    "    try:\n",
    "        change = int(change)\n",
    "        break\n",
    "    except:\n",
    "        print(f'\"{change}\" is not a valid input. Insert a numerical value.')\n",
    "\n",
    "while True:\n",
    "    coin = input('Please insert the coin value: ')\n",
    "    try:\n",
    "        coin = int(coin)\n",
    "        coins_available.append(coin)\n",
    "    # manage errors if user inserts a non valid input\n",
    "    except:\n",
    "        if coin.lower() == 'done':\n",
    "            # make sure the list is in descending order for the greedy algorithm to properly work\n",
    "            coins_available.sort(reverse=True)            \n",
    "            break\n",
    "        print(f'\\n\"{coin}\" is not a valid input.\\nPlease insert a numerical value.\\n')\n"
   ]
  },
  {
   "cell_type": "markdown",
   "metadata": {},
   "source": [
    "#### Greedy algorithm implementation"
   ]
  },
  {
   "cell_type": "code",
   "execution_count": 6,
   "metadata": {},
   "outputs": [
    {
     "name": "stdout",
     "output_type": "stream",
     "text": [
      "The minimum numbers of coins for the a change of 37 is 4\n"
     ]
    }
   ],
   "source": [
    "solution_counter = 0\n",
    "# copy for the final output\n",
    "change_copy = change\n",
    "\n",
    "for coin in coins_available:\n",
    "    while change >= coin:\n",
    "        change = change - coin\n",
    "        solution_counter += 1\n",
    "\n",
    "print(f'The minimum numbers of coins for the a change of {change_copy} is {solution_counter}')\n"
   ]
  }
 ],
 "metadata": {
  "interpreter": {
   "hash": "919bc9a3186f9778a151ffa373c5d70bb21ebcb876a13ab0dd9990207ae12a25"
  },
  "kernelspec": {
   "display_name": "Python 3.8.8 ('base')",
   "language": "python",
   "name": "python3"
  },
  "language_info": {
   "codemirror_mode": {
    "name": "ipython",
    "version": 3
   },
   "file_extension": ".py",
   "mimetype": "text/x-python",
   "name": "python",
   "nbconvert_exporter": "python",
   "pygments_lexer": "ipython3",
   "version": "3.8.8"
  },
  "orig_nbformat": 4
 },
 "nbformat": 4,
 "nbformat_minor": 2
}
